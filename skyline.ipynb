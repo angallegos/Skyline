{
  "nbformat": 4,
  "nbformat_minor": 0,
  "metadata": {
    "colab": {
      "name": "Untitled0.ipynb",
      "provenance": [],
      "include_colab_link": true
    },
    "kernelspec": {
      "name": "python3",
      "display_name": "Python 3"
    }
  },
  "cells": [
    {
      "cell_type": "markdown",
      "metadata": {
        "id": "view-in-github",
        "colab_type": "text"
      },
      "source": [
        "<a href=\"https://colab.research.google.com/github/angallegos/Skyline/blob/main/skyline.ipynb\" target=\"_parent\"><img src=\"https://colab.research.google.com/assets/colab-badge.svg\" alt=\"Open In Colab\"/></a>"
      ]
    },
    {
      "cell_type": "code",
      "metadata": {
        "id": "5YSUfrfv4wX_"
      },
      "source": [
        "import numpy as np"
      ],
      "execution_count": 1,
      "outputs": []
    },
    {
      "cell_type": "code",
      "metadata": {
        "id": "nonj8TYU5SnP"
      },
      "source": [
        "input = [[2,9,10],[3,6,15],[5,12,12],[13,16,10],[15,17,5]]"
      ],
      "execution_count": 2,
      "outputs": []
    },
    {
      "cell_type": "code",
      "metadata": {
        "id": "T8owooIJIiUH"
      },
      "source": [
        "#prints the upper limits of each building, also prints if it is the left or right limit\n",
        "x=[]\n",
        "for element in input:\n",
        "    x.append([element[0],element[2],\"l\"])\n",
        "    x.append([element[1],element[2],\"r\"])\n",
        "x=sorted(x) #sorts first coordinate from left to right\n",
        "#print(x)"
      ],
      "execution_count": 3,
      "outputs": []
    },
    {
      "cell_type": "code",
      "metadata": {
        "id": "z3H0DwcwInz_",
        "outputId": "cde976f9-4d1b-4787-a302-3fd9fbe9fd3d",
        "colab": {
          "base_uri": "https://localhost:8080/"
        }
      },
      "source": [
        "#skyline algorithm\n",
        "building_heights=[]\n",
        "building_heights.append(0)\n",
        "salida=[]\n",
        "max_height=np.max(building_heights)\n",
        "for i in x:\n",
        "    if(max_height==0):\n",
        "        if(i[2]=='l'):\n",
        "            building_heights.append(i[1])\n",
        "            if(i[1]>max_height):\n",
        "                max_height=np.max(building_heights)\n",
        "                salida.append([i[0],i[1]])\n",
        "    else:\n",
        "        if(i[2]=='l'):\n",
        "            building_heights.append(i[1])\n",
        "            if(i[1]>max_height):\n",
        "                max_height=np.max(building_heights)\n",
        "                salida.append([i[0],i[1]])\n",
        "        else:\n",
        "            building_heights.remove(i[1])\n",
        "            aux=max_height\n",
        "            max_height=np.max(building_heights)\n",
        "            if(max_height!=aux):\n",
        "                salida.append([i[0],max_height])\n",
        "print(salida)"
      ],
      "execution_count": 4,
      "outputs": [
        {
          "output_type": "stream",
          "text": [
            "[[2, 10], [3, 15], [6, 12], [12, 0], [13, 10], [16, 5], [17, 0]]\n"
          ],
          "name": "stdout"
        }
      ]
    }
  ]
}